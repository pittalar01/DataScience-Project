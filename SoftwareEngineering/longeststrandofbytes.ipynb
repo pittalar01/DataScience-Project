{
  "nbformat": 4,
  "nbformat_minor": 0,
  "metadata": {
    "colab": {
      "name": "Untitled7.ipynb",
      "provenance": [],
      "collapsed_sections": [],
      "authorship_tag": "ABX9TyOMrHF/HHCu4mAFRmDinQrk"
    },
    "kernelspec": {
      "name": "python3",
      "display_name": "Python 3"
    },
    "language_info": {
      "name": "python"
    }
  },
  "cells": [
    {
      "cell_type": "code",
      "metadata": {
        "id": "OXhCJjY3zoxl"
      },
      "source": [
        "import pandas as pd\n",
        "#For finding the longest strand\n",
        "def findLength(A, B):\n",
        "    memo = [[0] * (len(B) + 1) for _ in range(len(A) + 1)]\n",
        "    for i in range(len(A) - 1, -1, -1):\n",
        "        for j in range(len(B) - 1, -1, -1):\n",
        "            if A[i] == B[j]:\n",
        "                memo[i][j] = memo[i+1][j+1]+1\n",
        "    return max(max(row) for row in memo)\n"
      ],
      "execution_count": 6,
      "outputs": []
    },
    {
      "cell_type": "code",
      "metadata": {
        "id": "K7iwFMy7zuM-"
      },
      "source": [
        "#Method for choosing 2 files at once to find if it contains the longest strand\n",
        "def files(l):\n",
        "    df = pd.DataFrame(columns=['Filename1','Filename2','Length'])\n",
        "    list2={}\n",
        "    q=len(l)\n",
        "    print(l)\n",
        "    for i in range(q):\n",
        "        with open(l[i], mode='rb') as file:\n",
        "            fileContent = file.read()\n",
        "            file.close()\n",
        "        for j in range(i+1,q):\n",
        "            with open(l[j], mode='rb') as file:\n",
        "                fileContent2 = file.read()\n",
        "                file.close()\n",
        "            t=findLength(fileContent,fileContent2)\n",
        "            s=l[i]\n",
        "            a=l[j]\n",
        "            df=df.append({'Filename1':l[i],'Filename2':l[j],'Length':t},ignore_index=True)\n",
        "    print(df[df['Length']==df['Length'].max()])"
      ],
      "execution_count": 7,
      "outputs": []
    },
    {
      "cell_type": "code",
      "metadata": {
        "colab": {
          "base_uri": "https://localhost:8080/"
        },
        "id": "yCLJjBfCzzPx",
        "outputId": "2a024bfd-2083-4163-8ae6-ccd58951caaa"
      },
      "source": [
        "if __name__ == \"__main__\":\n",
        "  #send input  binary files for finding the longest strands through the files() function: As sample I have considered 4 files\n",
        "  files([r'/content/sample.1',r'/content/sample.2',r'/content/sample.3',r'/content/sample.4'])"
      ],
      "execution_count": 8,
      "outputs": [
        {
          "output_type": "stream",
          "text": [
            "['/content/sample.1', '/content/sample.2', '/content/sample.3', '/content/sample.4']\n",
            "           Filename1          Filename2 Length\n",
            "3  /content/sample.2  /content/sample.3  27648\n"
          ],
          "name": "stdout"
        }
      ]
    }
  ]
}